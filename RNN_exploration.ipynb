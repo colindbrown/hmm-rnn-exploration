{
  "nbformat": 4,
  "nbformat_minor": 0,
  "metadata": {
    "colab": {
      "name": "RNN_exploration.ipynb",
      "provenance": [],
      "collapsed_sections": [],
      "toc_visible": true,
      "include_colab_link": true
    },
    "kernelspec": {
      "name": "python3",
      "display_name": "Python 3"
    },
    "accelerator": "GPU"
  },
  "cells": [
    {
      "cell_type": "markdown",
      "metadata": {
        "id": "view-in-github",
        "colab_type": "text"
      },
      "source": [
        "<a href=\"https://colab.research.google.com/github/colindbrown/methylation-hmm-rnn/blob/master/RNN_exploration.ipynb\" target=\"_parent\"><img src=\"https://colab.research.google.com/assets/colab-badge.svg\" alt=\"Open In Colab\"/></a>"
      ]
    },
    {
      "cell_type": "code",
      "metadata": {
        "id": "GeFzMcwP-2lZ",
        "colab_type": "code",
        "outputId": "a4980a88-3ab9-4687-a04f-6bbe34df421d",
        "colab": {
          "base_uri": "https://localhost:8080/",
          "height": 34
        }
      },
      "source": [
        "# imports\n",
        "import torch.nn as nn\n",
        "import torch \n",
        "import torch.nn.functional as F\n",
        "import numpy as np\n",
        "import matplotlib.pyplot as plt\n",
        "from google.colab import drive\n",
        "import timeit\n",
        "\n",
        "np.set_printoptions(2)\n",
        "\n",
        "drive.mount('/content/drive')"
      ],
      "execution_count": 0,
      "outputs": [
        {
          "output_type": "stream",
          "text": [
            "Drive already mounted at /content/drive; to attempt to forcibly remount, call drive.mount(\"/content/drive\", force_remount=True).\n"
          ],
          "name": "stdout"
        }
      ]
    },
    {
      "cell_type": "code",
      "metadata": {
        "id": "pdJLEhipKPXY",
        "colab_type": "code",
        "colab": {}
      },
      "source": [
        "# load data\n",
        "scBSseq = np.load(\"/content/drive/My Drive/Colab Notebooks/methylation_hmm_rnn/scBSseq.npz\")\n",
        "\n",
        "meth_mat = scBSseq[\"meth_mat\"] # positions x cells matrix of counts of methylated CpGs\n",
        "unmeth_mat = scBSseq[\"unmeth_mat\"] # positions x cells matrix of counts of unmethylated CpGs (i.e. C got converted to T)\n",
        "positions = scBSseq[\"positions\"] # genomic position of each CpG\n",
        "chroms = scBSseq[\"chroms\"] # chromomsome of each CpG\n",
        "cell_names = scBSseq[\"cell_names\"] # cell type and an arbitrary ID\n",
        "\n",
        "total_counts = meth_mat + unmeth_mat\n",
        "ncells_with_reads = (total_counts > 0).sum(1)"
      ],
      "execution_count": 0,
      "outputs": []
    },
    {
      "cell_type": "code",
      "metadata": {
        "id": "LPYLacM5KWBt",
        "colab_type": "code",
        "colab": {}
      },
      "source": [
        "# setup data loaders for training, validation, and testing\n",
        "class CpgDataset(torch.utils.data.Dataset):\n",
        "\n",
        "    def __init__(self, meth_counts, unmeth_counts, seq_len = 1000):\n",
        "        super(CpgDataset, self).__init__()\n",
        "        self.meth_counts = meth_counts\n",
        "        self.unmeth_counts = unmeth_counts\n",
        "        self.seq_len = seq_len\n",
        "\n",
        "    def __getitem__(self, i): \n",
        "        return(self.meth_counts[i*self.seq_len:(i+1)*self.seq_len].astype(np.float32), \n",
        "               self.unmeth_counts[i*self.seq_len:(i+1)*self.seq_len].astype(np.float32))\n",
        "            \n",
        "    def __len__(self):\n",
        "        return self.meth_counts.shape[0] // self.seq_len\n",
        "\n",
        "batch_size = 100\n",
        "seq_len = 1000\n",
        "\n",
        "hidden_size = 32\n",
        "\n",
        "training_cpg = chroms == \"18\"\n",
        "train_dataset = CpgDataset(meth_mat[training_cpg,:], unmeth_mat[training_cpg,:], seq_len = seq_len)\n",
        "train_dataloader = torch.utils.data.DataLoader(train_dataset, \n",
        "                                               batch_size = batch_size, \n",
        "                                               num_workers = 0 )\n",
        "val_cpg = chroms == \"19\"\n",
        "val_dataset = CpgDataset(meth_mat[val_cpg,:], unmeth_mat[val_cpg,:], seq_len = seq_len)\n",
        "validation_dataloader = torch.utils.data.DataLoader(val_dataset, \n",
        "                                               batch_size = batch_size, \n",
        "                                               num_workers = 0)\n",
        "test_cpg = chroms == \"17\"\n",
        "test_dataset = CpgDataset(meth_mat[test_cpg,:], unmeth_mat[test_cpg,:], seq_len = seq_len)\n",
        "test_dataloader = torch.utils.data.DataLoader(test_dataset, \n",
        "                                               batch_size = batch_size, \n",
        "                                               num_workers = 0)"
      ],
      "execution_count": 0,
      "outputs": []
    },
    {
      "cell_type": "markdown",
      "metadata": {
        "id": "z5bm2EfUISYI",
        "colab_type": "text"
      },
      "source": [
        "# Implementing a RNN with Memory\n",
        "Variant on a basic RNN cell that mimics some of the behavior of a GRU, where\n",
        "$$ f_t = \\sigma( W_f [ x_t , h_{t-1} ]^T + \\mu_f ) $$\n",
        "$$ g_t = \\tanh( W_g [ x_t , h_{t-1} ]^T + \\mu_g ) $$\n",
        "$$ h_t = f_t \\cdot h_{t-1} + (1 - f_t) \\cdot g_t $$"
      ]
    },
    {
      "cell_type": "code",
      "metadata": {
        "id": "dr6JWg64HwgK",
        "colab_type": "code",
        "colab": {}
      },
      "source": [
        "# Implementation of an individual RNN Cell with basic memory\n",
        "class RNNCell(nn.Module):\n",
        "    def __init__(self, input_size, hidden_size):\n",
        "        super(RNNCell, self).__init__()\n",
        "        self.input_size = input_size\n",
        "        self.hidden_size = hidden_size\n",
        "        self.linearF = nn.Linear(input_size + hidden_size, hidden_size)\n",
        "        self.linearG = nn.Linear(input_size + hidden_size, hidden_size)\n",
        "        \n",
        "    def forward(self, x, h_in):\n",
        "        \"\"\"\n",
        "        Forward computation\n",
        "        \n",
        "        Parameters:\n",
        "        x     - input\n",
        "                 torch.tensor [batch_size x input_size] \n",
        "        h_in  - hidden state from previous time point\n",
        "                 torch.tensor [batch_size x hidden_size]\n",
        "            \n",
        "        Returns:\n",
        "        h_out - new hidden state \n",
        "                  torch.tensor [batch_size x hidden_size]\n",
        "        \"\"\"\n",
        "        combined = torch.cat((x, h_in), 1)\n",
        "        f = torch.sigmoid( self.linearF(combined) )\n",
        "        g = torch.tanh( self.linearG(combined) )\n",
        "        h_out = f * h_in + (1-f) * g\n",
        "        return h_out"
      ],
      "execution_count": 0,
      "outputs": []
    },
    {
      "cell_type": "code",
      "metadata": {
        "id": "FIu5k8V3Jqfx",
        "colab_type": "code",
        "colab": {}
      },
      "source": [
        "# Implementation of a full RNN Layer\n",
        "class RNNLayer(nn.Module):\n",
        "    def __init__(self, rnn_cell):\n",
        "        super(RNNLayer, self).__init__()\n",
        "        self.rnn_cell = rnn_cell\n",
        "\n",
        "    @property\n",
        "    def hidden_size(self):\n",
        "        return self.rnn_cell.hidden_size\n",
        "\n",
        "    @property\n",
        "    def input_size(self):\n",
        "        return self.rnn_cell.input_size\n",
        "        \n",
        "    def forward(self, x): \n",
        "        (seq_len, batch_size, input_size) = x.shape\n",
        "        hidden = torch.zeros(batch_size, self.hidden_size, device = x.device) # could be an input to the function\n",
        "        output = torch.zeros(seq_len, batch_size, self.hidden_size, device = x.device)\n",
        "        for i in range(seq_len): # iterate over sequence\n",
        "            hidden = self.rnn_cell(x[i,:,:], hidden)\n",
        "            output[i,:,:] = hidden\n",
        "        return output"
      ],
      "execution_count": 0,
      "outputs": []
    },
    {
      "cell_type": "code",
      "metadata": {
        "id": "clG_x3P_H1Y_",
        "colab_type": "code",
        "colab": {}
      },
      "source": [
        "# Model to predict methylation of next position from preceding positions\n",
        "class MethModel(nn.Module):\n",
        "    def __init__(self, rnn_layer, input_size = 2, output_size = 1):\n",
        "        super(MethModel, self).__init__()\n",
        "        self.hidden_size = rnn_layer.hidden_size\n",
        "        self.embed = nn.Linear(input_size, rnn_layer.input_size)\n",
        "        self.rnn_layer = rnn_layer\n",
        "        self.linear = nn.Linear(self.hidden_size, output_size)\n",
        "\n",
        "    def forward(self, meth, unmeth):\n",
        "        batch_size = meth.shape[1]\n",
        "        num_cells = meth.shape[2]\n",
        "        meth = meth.view(meth.shape[0], batch_size * num_cells)\n",
        "        unmeth = unmeth.view(unmeth.shape[0], batch_size * num_cells)\n",
        "        x = torch.stack((meth,unmeth),2)\n",
        "        x = self.embed(x)\n",
        "        x = F.relu(x)\n",
        "        h = self.rnn_layer(x) \n",
        "        if isinstance(rnn_layer, nn.RNNBase): h = h[0]\n",
        "        output = self.linear(h)\n",
        "        output = output.view(output.shape[0], batch_size, num_cells, output.shape[-1])\n",
        "        output = output[:,:,:,0]\n",
        "        return output"
      ],
      "execution_count": 0,
      "outputs": []
    },
    {
      "cell_type": "code",
      "metadata": {
        "id": "1yO1iZU1IAw8",
        "colab_type": "code",
        "colab": {}
      },
      "source": [
        "# training methods\n",
        "def run_one_epoch(train_flag, dataloader, model, optimizer, device=\"cuda\"):\n",
        "\n",
        "    torch.set_grad_enabled(train_flag)\n",
        "    model.train() if train_flag else model.eval()\n",
        "\n",
        "    losses = []\n",
        "    accuracies = []\n",
        "\n",
        "    for meth,unmeth in dataloader:\n",
        "        meth = meth.transpose(0,1).contiguous() \n",
        "        unmeth = unmeth.transpose(0,1).contiguous()\n",
        "\n",
        "        (meth, unmeth) = ( meth.to(device), unmeth.to(device) )\n",
        "\n",
        "        # forward\n",
        "        logodds = model(meth, unmeth)\n",
        "\n",
        "        lo = logodds[:-1,:,:] # shift by one since we're doing one-step ahead prediction\n",
        "        prob_methylated = torch.sigmoid(lo)\n",
        "\n",
        "        logProb = torch.log(prob_methylated)\n",
        "        logCompProb = torch.log(1-prob_methylated)\n",
        "        loss = - torch.mean(logProb*meth[1:,:,:] + logCompProb*unmeth[1:,:,:])\n",
        "        \n",
        "        losses.append(loss.detach().cpu().numpy())\n",
        "\n",
        "        if train_flag: \n",
        "            loss.backward()\n",
        "            optimizer.step()\n",
        "            optimizer.zero_grad()\n",
        "\n",
        "        # calculate accuracy\n",
        "        meth_sum = meth[1:,:,:] + unmeth[1:,:,:]\n",
        "        meth_rate = meth[1:,:,:] / meth_sum\n",
        "        correct = ((meth_rate > .5) == (prob_methylated > .5))[meth_sum > 0]\n",
        "        accuracy = torch.mean( correct.float() )\n",
        "\n",
        "        accuracies.append(accuracy.detach().cpu().numpy())  \n",
        "\n",
        "    return( np.mean(losses), np.mean(accuracies) )\n",
        "\n",
        "def train_loop(model,\n",
        "               optimizer,\n",
        "               train_dataloader, \n",
        "               validation_dataloader,\n",
        "               check_point_filename = '/content/drive/My Drive/scBSseq/rnn_checkpoint.pt',\n",
        "               max_epochs = 100, \n",
        "               patience = 10,\n",
        "               device = \"cuda\"):\n",
        "\n",
        "    train_accs = []\n",
        "    val_accs = []\n",
        "    patience_counter = patience\n",
        "    best_val_loss = np.inf\n",
        "\n",
        "    for epoch in range(max_epochs):\n",
        "        start_time = timeit.default_timer()\n",
        "        train_loss, train_acc = run_one_epoch(True, train_dataloader, model, optimizer, device)\n",
        "        val_loss, val_acc = run_one_epoch(False, validation_dataloader, model, optimizer, device)\n",
        "        train_accs.append(train_acc)\n",
        "        val_accs.append(val_acc)\n",
        "\n",
        "        elapsed = float(timeit.default_timer() - start_time)\n",
        "        print(\"Epoch %i took %.2fs. Train loss: %.4f acc: %.4f. Val loss: %.4f acc: %.4f. Patience left: %i\" % \n",
        "            (epoch+1, elapsed, train_loss, train_acc, val_loss, val_acc, patience_counter ))\n",
        "        \n",
        "        if val_loss < best_val_loss: \n",
        "            torch.save(model.state_dict(), check_point_filename)\n",
        "            best_val_loss = val_loss\n",
        "            patience_counter = patience\n",
        "        else: \n",
        "            patience_counter -= 1\n",
        "            if patience_counter <= 0: \n",
        "                model.load_state_dict(torch.load(check_point_filename)) # recover the best model so far\n",
        "                break\n",
        "    \n",
        "    return(train_accs, val_accs)"
      ],
      "execution_count": 0,
      "outputs": []
    },
    {
      "cell_type": "code",
      "metadata": {
        "id": "G0zZretWIE20",
        "colab_type": "code",
        "outputId": "8bbe8c99-a780-4700-991e-04c7a49c0b05",
        "colab": {
          "base_uri": "https://localhost:8080/",
          "height": 544
        }
      },
      "source": [
        "# Train RNN and print accuracy\n",
        "rnn_cell = RNNCell(input_size = hidden_size, hidden_size = hidden_size) \n",
        "rnn_layer = RNNLayer(rnn_cell)\n",
        "\n",
        "model = MethModel(rnn_layer)\n",
        "\n",
        "device = \"cuda\"\n",
        "model.to(device)\n",
        "\n",
        "optimizer = torch.optim.Adam(model.parameters(), amsgrad=True)\n",
        "\n",
        "train_accs, val_accs = train_loop(model,\n",
        "                                optimizer,\n",
        "                                train_dataloader, \n",
        "                                validation_dataloader,\n",
        "                                check_point_filename = 'rnn_checkpoint.pt',\n",
        "                                device = device,\n",
        "                                max_epochs = 30)\n",
        "\n",
        "test_loss, test_acc = run_one_epoch(False, test_dataloader, model, optimizer, device)\n",
        "print(test_acc)"
      ],
      "execution_count": 0,
      "outputs": [
        {
          "output_type": "stream",
          "text": [
            "Epoch 1 took 10.98s. Train loss: 0.3924 acc: 0.3723. Val loss: 0.4030 acc: 0.3791. Patience left: 10\n",
            "Epoch 2 took 10.97s. Train loss: 0.3805 acc: 0.4246. Val loss: 0.3897 acc: 0.4700. Patience left: 10\n",
            "Epoch 3 took 10.99s. Train loss: 0.3695 acc: 0.5112. Val loss: 0.3772 acc: 0.5741. Patience left: 10\n",
            "Epoch 4 took 10.97s. Train loss: 0.3591 acc: 0.6122. Val loss: 0.3654 acc: 0.6912. Patience left: 10\n",
            "Epoch 5 took 11.03s. Train loss: 0.3493 acc: 0.7035. Val loss: 0.3541 acc: 0.7863. Patience left: 10\n",
            "Epoch 6 took 10.98s. Train loss: 0.3401 acc: 0.7700. Val loss: 0.3434 acc: 0.7549. Patience left: 10\n",
            "Epoch 7 took 10.96s. Train loss: 0.3313 acc: 0.7016. Val loss: 0.3332 acc: 0.7024. Patience left: 10\n",
            "Epoch 8 took 10.96s. Train loss: 0.3230 acc: 0.6635. Val loss: 0.3235 acc: 0.6927. Patience left: 10\n",
            "Epoch 9 took 11.00s. Train loss: 0.3152 acc: 0.6567. Val loss: 0.3143 acc: 0.6913. Patience left: 10\n",
            "Epoch 10 took 10.97s. Train loss: 0.3078 acc: 0.6566. Val loss: 0.3056 acc: 0.6932. Patience left: 10\n",
            "Epoch 11 took 10.94s. Train loss: 0.3008 acc: 0.6594. Val loss: 0.2973 acc: 0.6979. Patience left: 10\n",
            "Epoch 12 took 11.01s. Train loss: 0.2939 acc: 0.6652. Val loss: 0.2893 acc: 0.7054. Patience left: 10\n",
            "Epoch 13 took 10.99s. Train loss: 0.2870 acc: 0.6744. Val loss: 0.2811 acc: 0.7168. Patience left: 10\n",
            "Epoch 14 took 10.97s. Train loss: 0.2797 acc: 0.6880. Val loss: 0.2727 acc: 0.7335. Patience left: 10\n",
            "Epoch 15 took 10.97s. Train loss: 0.2718 acc: 0.7080. Val loss: 0.2638 acc: 0.7559. Patience left: 10\n",
            "Epoch 16 took 11.00s. Train loss: 0.2630 acc: 0.7350. Val loss: 0.2542 acc: 0.7842. Patience left: 10\n",
            "Epoch 17 took 10.99s. Train loss: 0.2533 acc: 0.7692. Val loss: 0.2442 acc: 0.8141. Patience left: 10\n",
            "Epoch 18 took 10.97s. Train loss: 0.2430 acc: 0.8034. Val loss: 0.2344 acc: 0.8365. Patience left: 10\n",
            "Epoch 19 took 11.00s. Train loss: 0.2330 acc: 0.8238. Val loss: 0.2258 acc: 0.8330. Patience left: 10\n",
            "Epoch 20 took 11.04s. Train loss: 0.2247 acc: 0.8176. Val loss: 0.2189 acc: 0.8238. Patience left: 10\n",
            "Epoch 21 took 11.00s. Train loss: 0.2183 acc: 0.8118. Val loss: 0.2141 acc: 0.8204. Patience left: 10\n",
            "Epoch 22 took 10.99s. Train loss: 0.2162 acc: 0.8075. Val loss: 0.2167 acc: 0.8133. Patience left: 10\n",
            "Epoch 23 took 10.98s. Train loss: 0.2190 acc: 0.8026. Val loss: 0.2166 acc: 0.8133. Patience left: 9\n",
            "Epoch 24 took 11.01s. Train loss: 0.2180 acc: 0.8042. Val loss: 0.2120 acc: 0.8195. Patience left: 8\n",
            "Epoch 25 took 11.01s. Train loss: 0.2133 acc: 0.8103. Val loss: 0.2078 acc: 0.8269. Patience left: 10\n",
            "Epoch 26 took 10.96s. Train loss: 0.2101 acc: 0.8164. Val loss: 0.2070 acc: 0.8320. Patience left: 10\n",
            "Epoch 27 took 11.00s. Train loss: 0.2099 acc: 0.8196. Val loss: 0.2068 acc: 0.8352. Patience left: 10\n",
            "Epoch 28 took 11.02s. Train loss: 0.2098 acc: 0.8223. Val loss: 0.2059 acc: 0.8370. Patience left: 10\n",
            "Epoch 29 took 10.98s. Train loss: 0.2092 acc: 0.8229. Val loss: 0.2051 acc: 0.8357. Patience left: 10\n",
            "Epoch 30 took 10.96s. Train loss: 0.2087 acc: 0.8215. Val loss: 0.2042 acc: 0.8345. Patience left: 10\n",
            "0.82518154\n"
          ],
          "name": "stdout"
        }
      ]
    },
    {
      "cell_type": "code",
      "metadata": {
        "id": "IflfgdxzINzx",
        "colab_type": "code",
        "colab": {}
      },
      "source": [
        "plt.plot(train_accs,  \"--\", label=\"train\")\n",
        "plt.plot(val_accs, label=\"validation\")\n",
        "plt.axhline(test_acc)\n",
        "plt.legend()\n",
        "plt.xlabel(\"epoch\")\n",
        "plt.ylabel(\"accuracy\")"
      ],
      "execution_count": 0,
      "outputs": []
    },
    {
      "cell_type": "markdown",
      "metadata": {
        "id": "dH6ZYrG2IccG",
        "colab_type": "text"
      },
      "source": [
        "# Comparing RNN Variants\n",
        "Comparison of MyRNN implementation to PyTorch's built in RNN, GRU, and LSTM layers"
      ]
    },
    {
      "cell_type": "code",
      "metadata": {
        "id": "_wS4D0e2ImrZ",
        "colab_type": "code",
        "colab": {}
      },
      "source": [
        "# Different model class for torch implementations, as torch layers return a tuple output\n",
        "class TorchMethModel(nn.Module):\n",
        "    def __init__(self, rnn_layer, input_size = 2, output_size = 1):\n",
        "        super(TorchMethModel, self).__init__()\n",
        "        self.hidden_size = rnn_layer.hidden_size\n",
        "        self.embed = nn.Linear(input_size, rnn_layer.input_size)\n",
        "        self.rnn_layer = rnn_layer\n",
        "        self.linear = nn.Linear(self.hidden_size, output_size)\n",
        "\n",
        "    def forward(self, meth, unmeth):\n",
        "        batch_size = meth.shape[1]\n",
        "        num_cells = meth.shape[2]\n",
        "        meth = meth.view(meth.shape[0], batch_size * num_cells)\n",
        "        unmeth = unmeth.view(unmeth.shape[0], batch_size * num_cells)\n",
        "        x = torch.stack((meth,unmeth),2)\n",
        "        x = self.embed(x)\n",
        "        x = F.relu(x)\n",
        "        # handles extra output from torch implementation\n",
        "        h, _ = self.rnn_layer(x) \n",
        "        if isinstance(rnn_layer, nn.RNNBase): h = h[0]\n",
        "        output = self.linear(h)\n",
        "        output = output.view(output.shape[0], batch_size, num_cells, output.shape[-1])\n",
        "        output = output[:,:,:,0]\n",
        "        return output"
      ],
      "execution_count": 0,
      "outputs": []
    },
    {
      "cell_type": "code",
      "metadata": {
        "id": "qeN3B8IIIqtn",
        "colab_type": "code",
        "colab": {}
      },
      "source": [
        "# Training wrapper that runs for multiple provided models\n",
        "# Plots validation accuracy across training for each\n",
        "def train_and_plot(models, type, accs):\n",
        "  for restart, model in enumerate(models):\n",
        "    print(f'{type} Restart {restart}')\n",
        "\n",
        "    device = \"cuda\"\n",
        "    model.to(device)\n",
        "    optimizer = torch.optim.Adam(model.parameters(), amsgrad=True)\n",
        "\n",
        "    train_accs, val_accs = train_loop(model,\n",
        "                                optimizer,\n",
        "                                train_dataloader, \n",
        "                                validation_dataloader,\n",
        "                                check_point_filename = f'{type}_checkpoint_{restart}.pt',\n",
        "                                device = device,\n",
        "                                max_epochs = 30)\n",
        "\n",
        "    test_loss, test_acc = run_one_epoch(False, test_dataloader, model, optimizer, device)\n",
        "    accs[\"train\"].append(train_accs[-1])\n",
        "    accs[\"val\"].append(val_accs[-1])\n",
        "    accs[\"test\"].append(test_acc)\n",
        "    print(test_acc)\n",
        "\n",
        "    plt.plot(val_accs, label=f\"val accs {restart}\")\n",
        "\n",
        "  plt.legend()\n",
        "  plt.ylabel('Accuracy')\n",
        "  plt.title(\"Validation Accuracy over Training\")\n",
        "  plt.grid(which=\"both\")\n",
        "  plt.show()"
      ],
      "execution_count": 0,
      "outputs": []
    },
    {
      "cell_type": "code",
      "metadata": {
        "id": "4rxz1y2BItTj",
        "colab_type": "code",
        "colab": {}
      },
      "source": [
        "# Training using MyRNN implementation\n",
        "MyRNN_accs = {\"train\": [], \"val\": [], \"test\": []}\n",
        "MyRNN_models = []\n",
        "for i in range(3):\n",
        "  rnn_cell = RNNCell(input_size = hidden_size, hidden_size = hidden_size) \n",
        "  rnn_layer = RNNLayer(rnn_cell)\n",
        "  MyRNN_models.append(MethModel(rnn_layer))\n",
        "train_and_plot(MyRNN_models, \"MyRNN\", MyRNN_accs)"
      ],
      "execution_count": 0,
      "outputs": []
    },
    {
      "cell_type": "code",
      "metadata": {
        "id": "LLcN1NVcIwV-",
        "colab_type": "code",
        "outputId": "be268448-a28e-4c25-9c33-6699f960808e",
        "colab": {
          "base_uri": "https://localhost:8080/",
          "height": 1000
        }
      },
      "source": [
        "# Training using PyTorch RNN implementation\n",
        "RNN_accs = {\"train\": [], \"val\": [], \"test\": []}\n",
        "RNN_models = []\n",
        "for i in range(3):\n",
        "  layer = nn.RNN(input_size=hidden_size, hidden_size=hidden_size)\n",
        "  RNN_models.append(TorchMethModel(layer))\n",
        "train_and_plot(RNN_models, \"RNN\", RNN_accs)"
      ],
      "execution_count": 0,
      "outputs": [
        {
          "output_type": "stream",
          "text": [
            "RNN Restart 0\n",
            "Epoch 1 took 0.53s. Train loss: 0.3708 acc: 0.6414. Val loss: 0.3738 acc: 0.6764. Patience left: 10\n",
            "Epoch 2 took 0.51s. Train loss: 0.3593 acc: 0.6415. Val loss: 0.3612 acc: 0.6765. Patience left: 10\n",
            "Epoch 3 took 0.51s. Train loss: 0.3491 acc: 0.6416. Val loss: 0.3500 acc: 0.6766. Patience left: 10\n",
            "Epoch 4 took 0.50s. Train loss: 0.3402 acc: 0.6418. Val loss: 0.3402 acc: 0.6769. Patience left: 10\n",
            "Epoch 5 took 0.50s. Train loss: 0.3324 acc: 0.6421. Val loss: 0.3315 acc: 0.6774. Patience left: 10\n",
            "Epoch 6 took 0.50s. Train loss: 0.3255 acc: 0.6427. Val loss: 0.3238 acc: 0.6780. Patience left: 10\n",
            "Epoch 7 took 0.50s. Train loss: 0.3192 acc: 0.6436. Val loss: 0.3168 acc: 0.6794. Patience left: 10\n",
            "Epoch 8 took 0.51s. Train loss: 0.3134 acc: 0.6451. Val loss: 0.3102 acc: 0.6807. Patience left: 10\n",
            "Epoch 9 took 0.49s. Train loss: 0.3079 acc: 0.6475. Val loss: 0.3039 acc: 0.6843. Patience left: 10\n",
            "Epoch 10 took 0.49s. Train loss: 0.3024 acc: 0.6504. Val loss: 0.2978 acc: 0.6872. Patience left: 10\n",
            "Epoch 11 took 0.50s. Train loss: 0.2968 acc: 0.6559. Val loss: 0.2916 acc: 0.6942. Patience left: 10\n",
            "Epoch 12 took 0.50s. Train loss: 0.2912 acc: 0.6622. Val loss: 0.2854 acc: 0.6997. Patience left: 10\n",
            "Epoch 13 took 0.50s. Train loss: 0.2853 acc: 0.6703. Val loss: 0.2791 acc: 0.7108. Patience left: 10\n",
            "Epoch 14 took 0.50s. Train loss: 0.2792 acc: 0.6822. Val loss: 0.2727 acc: 0.7222. Patience left: 10\n",
            "Epoch 15 took 0.50s. Train loss: 0.2730 acc: 0.6956. Val loss: 0.2662 acc: 0.7337. Patience left: 10\n",
            "Epoch 16 took 0.50s. Train loss: 0.2666 acc: 0.7103. Val loss: 0.2595 acc: 0.7515. Patience left: 10\n",
            "Epoch 17 took 0.51s. Train loss: 0.2600 acc: 0.7325. Val loss: 0.2528 acc: 0.7754. Patience left: 10\n",
            "Epoch 18 took 0.49s. Train loss: 0.2533 acc: 0.7574. Val loss: 0.2459 acc: 0.8002. Patience left: 10\n",
            "Epoch 19 took 0.50s. Train loss: 0.2466 acc: 0.7803. Val loss: 0.2389 acc: 0.8134. Patience left: 10\n",
            "Epoch 20 took 0.50s. Train loss: 0.2398 acc: 0.7958. Val loss: 0.2318 acc: 0.8285. Patience left: 10\n",
            "Epoch 21 took 0.50s. Train loss: 0.2329 acc: 0.8161. Val loss: 0.2245 acc: 0.8325. Patience left: 10\n",
            "Epoch 22 took 0.50s. Train loss: 0.2260 acc: 0.8177. Val loss: 0.2173 acc: 0.8339. Patience left: 10\n",
            "Epoch 23 took 0.49s. Train loss: 0.2193 acc: 0.8201. Val loss: 0.2105 acc: 0.8370. Patience left: 10\n",
            "Epoch 24 took 0.49s. Train loss: 0.2133 acc: 0.8228. Val loss: 0.2068 acc: 0.8362. Patience left: 10\n",
            "Epoch 25 took 0.49s. Train loss: 0.2110 acc: 0.8223. Val loss: 0.2061 acc: 0.8332. Patience left: 10\n",
            "Epoch 26 took 0.49s. Train loss: 0.2099 acc: 0.8200. Val loss: 0.2054 acc: 0.8284. Patience left: 10\n",
            "Epoch 27 took 0.49s. Train loss: 0.2096 acc: 0.8144. Val loss: 0.2064 acc: 0.8230. Patience left: 10\n",
            "Epoch 28 took 0.49s. Train loss: 0.2105 acc: 0.8095. Val loss: 0.2057 acc: 0.8256. Patience left: 9\n",
            "Epoch 29 took 0.49s. Train loss: 0.2098 acc: 0.8123. Val loss: 0.2041 acc: 0.8278. Patience left: 8\n",
            "Epoch 30 took 0.49s. Train loss: 0.2082 acc: 0.8150. Val loss: 0.2023 acc: 0.8332. Patience left: 10\n",
            "0.82420427\n",
            "RNN Restart 1\n",
            "Epoch 1 took 0.50s. Train loss: 0.3690 acc: 0.6576. Val loss: 0.3706 acc: 0.6961. Patience left: 10\n",
            "Epoch 2 took 0.50s. Train loss: 0.3548 acc: 0.6635. Val loss: 0.3551 acc: 0.6969. Patience left: 10\n",
            "Epoch 3 took 0.50s. Train loss: 0.3420 acc: 0.6641. Val loss: 0.3412 acc: 0.6972. Patience left: 10\n",
            "Epoch 4 took 0.49s. Train loss: 0.3304 acc: 0.6646. Val loss: 0.3286 acc: 0.6978. Patience left: 10\n",
            "Epoch 5 took 0.51s. Train loss: 0.3199 acc: 0.6654. Val loss: 0.3172 acc: 0.6996. Patience left: 10\n",
            "Epoch 6 took 0.49s. Train loss: 0.3103 acc: 0.6681. Val loss: 0.3068 acc: 0.7029. Patience left: 10\n",
            "Epoch 7 took 0.50s. Train loss: 0.3015 acc: 0.6747. Val loss: 0.2971 acc: 0.7157. Patience left: 10\n",
            "Epoch 8 took 0.49s. Train loss: 0.2932 acc: 0.6875. Val loss: 0.2879 acc: 0.7204. Patience left: 10\n",
            "Epoch 9 took 0.49s. Train loss: 0.2851 acc: 0.6919. Val loss: 0.2790 acc: 0.7239. Patience left: 10\n",
            "Epoch 10 took 0.49s. Train loss: 0.2771 acc: 0.6963. Val loss: 0.2703 acc: 0.7306. Patience left: 10\n",
            "Epoch 11 took 0.50s. Train loss: 0.2691 acc: 0.7044. Val loss: 0.2616 acc: 0.7450. Patience left: 10\n",
            "Epoch 12 took 0.50s. Train loss: 0.2609 acc: 0.7240. Val loss: 0.2528 acc: 0.7745. Patience left: 10\n",
            "Epoch 13 took 0.50s. Train loss: 0.2525 acc: 0.7598. Val loss: 0.2440 acc: 0.8044. Patience left: 10\n",
            "Epoch 14 took 0.50s. Train loss: 0.2440 acc: 0.7916. Val loss: 0.2353 acc: 0.8305. Patience left: 10\n",
            "Epoch 15 took 0.50s. Train loss: 0.2357 acc: 0.8153. Val loss: 0.2269 acc: 0.8307. Patience left: 10\n",
            "Epoch 16 took 0.50s. Train loss: 0.2277 acc: 0.8164. Val loss: 0.2190 acc: 0.8291. Patience left: 10\n",
            "Epoch 17 took 0.50s. Train loss: 0.2202 acc: 0.8155. Val loss: 0.2121 acc: 0.8296. Patience left: 10\n",
            "Epoch 18 took 0.49s. Train loss: 0.2145 acc: 0.8171. Val loss: 0.2112 acc: 0.8278. Patience left: 10\n",
            "Epoch 19 took 0.50s. Train loss: 0.2147 acc: 0.8148. Val loss: 0.2104 acc: 0.8248. Patience left: 10\n",
            "Epoch 20 took 0.50s. Train loss: 0.2130 acc: 0.8123. Val loss: 0.2099 acc: 0.8180. Patience left: 10\n",
            "Epoch 21 took 0.50s. Train loss: 0.2138 acc: 0.8039. Val loss: 0.2096 acc: 0.8174. Patience left: 10\n",
            "Epoch 22 took 0.50s. Train loss: 0.2124 acc: 0.8070. Val loss: 0.2068 acc: 0.8265. Patience left: 10\n",
            "Epoch 23 took 0.49s. Train loss: 0.2106 acc: 0.8151. Val loss: 0.2057 acc: 0.8296. Patience left: 10\n",
            "Epoch 24 took 0.49s. Train loss: 0.2094 acc: 0.8181. Val loss: 0.2030 acc: 0.8339. Patience left: 10\n",
            "Epoch 25 took 0.49s. Train loss: 0.2074 acc: 0.8206. Val loss: 0.2022 acc: 0.8344. Patience left: 10\n",
            "Epoch 26 took 0.49s. Train loss: 0.2069 acc: 0.8208. Val loss: 0.2020 acc: 0.8365. Patience left: 10\n",
            "Epoch 27 took 0.50s. Train loss: 0.2068 acc: 0.8228. Val loss: 0.2018 acc: 0.8378. Patience left: 10\n",
            "Epoch 28 took 0.49s. Train loss: 0.2067 acc: 0.8241. Val loss: 0.2015 acc: 0.8390. Patience left: 10\n",
            "Epoch 29 took 0.50s. Train loss: 0.2065 acc: 0.8251. Val loss: 0.2010 acc: 0.8394. Patience left: 10\n",
            "Epoch 30 took 0.49s. Train loss: 0.2060 acc: 0.8254. Val loss: 0.2005 acc: 0.8394. Patience left: 10\n",
            "0.82951945\n",
            "RNN Restart 2\n",
            "Epoch 1 took 0.50s. Train loss: 0.3371 acc: 0.6418. Val loss: 0.3368 acc: 0.6770. Patience left: 10\n",
            "Epoch 2 took 0.49s. Train loss: 0.3276 acc: 0.6422. Val loss: 0.3263 acc: 0.6774. Patience left: 10\n",
            "Epoch 3 took 0.50s. Train loss: 0.3190 acc: 0.6429. Val loss: 0.3166 acc: 0.6787. Patience left: 10\n",
            "Epoch 4 took 0.50s. Train loss: 0.3109 acc: 0.6444. Val loss: 0.3078 acc: 0.6805. Patience left: 10\n",
            "Epoch 5 took 0.50s. Train loss: 0.3034 acc: 0.6478. Val loss: 0.2995 acc: 0.6855. Patience left: 10\n",
            "Epoch 6 took 0.49s. Train loss: 0.2964 acc: 0.6531. Val loss: 0.2919 acc: 0.6911. Patience left: 10\n",
            "Epoch 7 took 0.49s. Train loss: 0.2896 acc: 0.6638. Val loss: 0.2846 acc: 0.7077. Patience left: 10\n",
            "Epoch 8 took 0.49s. Train loss: 0.2830 acc: 0.6815. Val loss: 0.2776 acc: 0.7172. Patience left: 10\n",
            "Epoch 9 took 0.51s. Train loss: 0.2766 acc: 0.6885. Val loss: 0.2710 acc: 0.7515. Patience left: 10\n",
            "Epoch 10 took 0.50s. Train loss: 0.2704 acc: 0.7373. Val loss: 0.2646 acc: 0.7699. Patience left: 10\n",
            "Epoch 11 took 0.49s. Train loss: 0.2644 acc: 0.7480. Val loss: 0.2586 acc: 0.7817. Patience left: 10\n",
            "Epoch 12 took 0.49s. Train loss: 0.2587 acc: 0.7759. Val loss: 0.2529 acc: 0.8076. Patience left: 10\n",
            "Epoch 13 took 0.50s. Train loss: 0.2533 acc: 0.7916. Val loss: 0.2475 acc: 0.8046. Patience left: 10\n",
            "Epoch 14 took 0.49s. Train loss: 0.2482 acc: 0.7890. Val loss: 0.2423 acc: 0.8050. Patience left: 10\n",
            "Epoch 15 took 0.50s. Train loss: 0.2434 acc: 0.7895. Val loss: 0.2374 acc: 0.8059. Patience left: 10\n",
            "Epoch 16 took 0.49s. Train loss: 0.2389 acc: 0.7907. Val loss: 0.2327 acc: 0.8070. Patience left: 10\n",
            "Epoch 17 took 0.50s. Train loss: 0.2346 acc: 0.7921. Val loss: 0.2283 acc: 0.8087. Patience left: 10\n",
            "Epoch 18 took 0.49s. Train loss: 0.2307 acc: 0.7938. Val loss: 0.2241 acc: 0.8106. Patience left: 10\n",
            "Epoch 19 took 0.50s. Train loss: 0.2269 acc: 0.7959. Val loss: 0.2202 acc: 0.8126. Patience left: 10\n",
            "Epoch 20 took 0.50s. Train loss: 0.2235 acc: 0.7980. Val loss: 0.2168 acc: 0.8111. Patience left: 10\n",
            "Epoch 21 took 0.50s. Train loss: 0.2205 acc: 0.7962. Val loss: 0.2137 acc: 0.8138. Patience left: 10\n",
            "Epoch 22 took 0.49s. Train loss: 0.2178 acc: 0.7992. Val loss: 0.2110 acc: 0.8177. Patience left: 10\n",
            "Epoch 23 took 0.49s. Train loss: 0.2154 acc: 0.8033. Val loss: 0.2088 acc: 0.8215. Patience left: 10\n",
            "Epoch 24 took 0.49s. Train loss: 0.2134 acc: 0.8074. Val loss: 0.2070 acc: 0.8256. Patience left: 10\n",
            "Epoch 25 took 0.50s. Train loss: 0.2119 acc: 0.8116. Val loss: 0.2058 acc: 0.8291. Patience left: 10\n",
            "Epoch 26 took 0.50s. Train loss: 0.2108 acc: 0.8151. Val loss: 0.2050 acc: 0.8316. Patience left: 10\n",
            "Epoch 27 took 0.49s. Train loss: 0.2102 acc: 0.8174. Val loss: 0.2045 acc: 0.8309. Patience left: 10\n",
            "Epoch 28 took 0.50s. Train loss: 0.2096 acc: 0.8177. Val loss: 0.2039 acc: 0.8322. Patience left: 10\n",
            "Epoch 29 took 0.50s. Train loss: 0.2089 acc: 0.8192. Val loss: 0.2029 acc: 0.8340. Patience left: 10\n",
            "Epoch 30 took 0.50s. Train loss: 0.2079 acc: 0.8210. Val loss: 0.2017 acc: 0.8360. Patience left: 10\n",
            "0.82626575\n"
          ],
          "name": "stdout"
        },
        {
          "output_type": "display_data",
          "data": {
            "image/png": "[encoded data removed]",
            "text/plain": [
              "<Figure size 432x288 with 1 Axes>"
            ]
          },
          "metadata": {
            "tags": []
          }
        }
      ]
    },
    {
      "cell_type": "code",
      "metadata": {
        "id": "eXgBtBsZIypH",
        "colab_type": "code",
        "colab": {}
      },
      "source": [
        "# Training using PyTorch GRU implementation\n",
        "GRU_accs = {\"train\": [], \"val\": [], \"test\": []}\n",
        "GRU_models = []\n",
        "for i in range(3):\n",
        "  layer = nn.GRU(input_size=hidden_size, hidden_size=hidden_size)\n",
        "  GRU_models.append(TorchMethModel(layer))\n",
        "train_and_plot(GRU_models, \"GRU\", GRU_accs)"
      ],
      "execution_count": 0,
      "outputs": []
    },
    {
      "cell_type": "code",
      "metadata": {
        "id": "tWQAskjKI1Tb",
        "colab_type": "code",
        "colab": {}
      },
      "source": [
        "# Training using PyTorch LSTM implementation\n",
        "LSTM_accs = {\"train\": [], \"val\": [], \"test\": []}\n",
        "LSTM_models = []\n",
        "for i in range(3):\n",
        "  layer = nn.LSTM(input_size=hidden_size, hidden_size=hidden_size)\n",
        "  LSTM_models.append(TorchMethModel(layer))\n",
        "train_and_plot(LSTM_models, \"LSTM\", LSTM_accs)"
      ],
      "execution_count": 0,
      "outputs": []
    },
    {
      "cell_type": "code",
      "metadata": {
        "id": "_MC3qHuMI33K",
        "colab_type": "code",
        "colab": {}
      },
      "source": [
        "# Compare training, validation, and test accuracy for 4 different models on same data\n",
        "labels = ['MyRNN', 'RNN', 'GRU', 'LSTM']\n",
        "accs = [MyRNN_accs, RNN_accs, GRU_accs, LSTM_accs]\n",
        "\n",
        "def plot(acc_type, name):\n",
        "  x = np.arange(len(labels))\n",
        "  width = 0.15\n",
        "\n",
        "  fig, ax = plt.subplots()\n",
        "  restart1 = ax.bar(x - width, list(map(lambda x: x[acc_type][0],accs)), width, label='Restart 1')\n",
        "  restart2 = ax.bar(x, list(map(lambda x: x[acc_type][1],accs)), width, label='Restart 2')\n",
        "  restart3 = ax.bar(x + width, list(map(lambda x: x[acc_type][2],accs)), width, label='Restart 3')\n",
        "\n",
        "  ax.set_ylabel('Accuracy')\n",
        "  plt.ylim((.80, .85))   # s\n",
        "  ax.set_title(name)\n",
        "  ax.set_xticks(x)\n",
        "  ax.set_xticklabels(labels)\n",
        "  ax.legend()\n",
        "\n",
        "  fig.tight_layout()\n",
        "  plt.show()  \n",
        "\n",
        "plot(\"train\", \"Training Accuracy for RNN Variants\")\n",
        "plot(\"val\", \"Validation Accuracy for RNN Variants\")\n",
        "plot(\"test\", \"Test Accuracy for RNN Variants\")"
      ],
      "execution_count": 0,
      "outputs": []
    }
  ]
}